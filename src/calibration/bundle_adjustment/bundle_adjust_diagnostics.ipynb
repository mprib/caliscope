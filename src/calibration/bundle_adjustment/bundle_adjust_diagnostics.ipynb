{
 "cells": [
  {
   "cell_type": "code",
   "execution_count": 1,
   "metadata": {},
   "outputs": [
    {
     "name": "stdout",
     "output_type": "stream",
     "text": [
      "c:\\Users\\Mac Prible\\repos\\calicam\n",
      "c:\\Users\\Mac Prible\\anaconda3\\envs\\calicam\\python38.zip\n",
      "c:\\Users\\Mac Prible\\anaconda3\\envs\\calicam\\DLLs\n",
      "c:\\Users\\Mac Prible\\anaconda3\\envs\\calicam\\lib\n",
      "c:\\Users\\Mac Prible\\anaconda3\\envs\\calicam\n",
      "\n",
      "c:\\Users\\Mac Prible\\anaconda3\\envs\\calicam\\lib\\site-packages\n",
      "c:\\Users\\Mac Prible\\anaconda3\\envs\\calicam\\lib\\site-packages\\win32\n",
      "c:\\Users\\Mac Prible\\anaconda3\\envs\\calicam\\lib\\site-packages\\win32\\lib\n",
      "c:\\Users\\Mac Prible\\anaconda3\\envs\\calicam\\lib\\site-packages\\Pythonwin\n"
     ]
    }
   ],
   "source": [
    "import sys\n",
    "from pathlib import Path\n",
    "\n",
    "for p in sys.path:\n",
    "    print(p)\n",
    "    \n",
    "\n",
    "repo = str(Path(__file__)).split(\"src\")[0]\n",
    "sys.path.insert(0, repo)"
   ]
  }
 ],
 "metadata": {
  "kernelspec": {
   "display_name": "calicam",
   "language": "python",
   "name": "python3"
  },
  "language_info": {
   "codemirror_mode": {
    "name": "ipython",
    "version": 3
   },
   "file_extension": ".py",
   "mimetype": "text/x-python",
   "name": "python",
   "nbconvert_exporter": "python",
   "pygments_lexer": "ipython3",
   "version": "3.8.15"
  },
  "orig_nbformat": 4,
  "vscode": {
   "interpreter": {
    "hash": "ae764ba699c7ded07afcd0fa1498f05c82e0e797cd76cfb1fdba6d175e362053"
   }
  }
 },
 "nbformat": 4,
 "nbformat_minor": 2
}
