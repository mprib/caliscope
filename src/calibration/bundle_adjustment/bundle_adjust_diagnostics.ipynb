{
 "cells": [
  {
   "attachments": {},
   "cell_type": "markdown",
   "metadata": {},
   "source": [
    "# Camera Configuration Diagnostics\n",
    "\n",
    "The purpose of this notebook is to examine the accuracy of the camera array configuration both before and after bundle adjustment. It will import the pickled bundle adjustment data for inspection.\n",
    "\n",
    "Begin by importing the pickled objects."
   ]
  },
  {
   "cell_type": "code",
   "execution_count": 3,
   "metadata": {},
   "outputs": [],
   "source": [
    "from pathlib import Path\n",
    "import pickle\n",
    "import sys\n",
    "\n",
    "# some convenient reference paths\n",
    "repo = str(Path.cwd()).split(\"src\")[0]\n",
    "# update path\n",
    "sys.path.insert(0,repo)\n",
    "# which enables import of relevant class\n",
    "from src.cameras.camera_array import ArrayDiagnosticData\n",
    "\n",
    "calibration_directory = Path(repo, \"sessions\", \"iterative_adjustment\", \"recording\")\n",
    "\n",
    "before_path = Path(calibration_directory,\"before_bund_adj.pkl\")\n",
    "after_path = Path(calibration_directory,\"after_bund_adj.pkl\")\n",
    "\n",
    "with open(before_path, \"rb\") as file:\n",
    "    before = pickle.load(file)\n",
    "\n",
    "with open(after_path, \"rb\") as file:\n",
    "    after = pickle.load(file)\n",
    "    "
   ]
  },
  {
   "cell_type": "code",
   "execution_count": 13,
   "metadata": {},
   "outputs": [],
   "source": [
    "    \n",
    "import numpy as np\n",
    "import pandas as pd\n",
    "\n",
    "\n",
    "before_xy_error = before.xy_reprojection_error.reshape(-1,2)\n",
    "# build out error as singular distanc\n",
    "euclidean_distance_error = np.sqrt(np.sum(before_xy_error ** 2, axis=1))\n",
    "\n",
    "before_dict = {\n",
    "    \"camera\": before.point_data.camera_indices_full.tolist(),\n",
    "    \"sync_index\": before.point_data.sync_indices.tolist(),\n",
    "    \"charuco_id\": before.point_data.corner_id.tolist(),\n",
    "    \"img_x\": before.point_data.img_full[:,0].tolist(), \n",
    "    \"img_y\": before.point_data.img_full[:,1].tolist(), \n",
    "    \"reproj_error_x\": before_xy_error[:, 0].tolist(),\n",
    "    \"reproj_error_y\": before_xy_error[:, 1].tolist(),\n",
    "    \"reproj_error\": euclidean_distance_error.tolist(),\n",
    "    \"obj_id\": before.point_data.obj_indices.tolist(),\n",
    "    \"obj_x\": before.point_data.obj[before.point_data.obj_indices_full][:,0].tolist(),\n",
    "    \"obj_y\": before.point_data.obj[before.point_data.obj_indices_full][:,1].tolist(),\n",
    "    \"obj_z\": before.point_data.obj[before.point_data.obj_indices_full][:,2].tolist(),\n",
    "    \n",
    "}\n",
    "\n",
    "before_df = pd.DataFrame(before_dict)\n"
   ]
  },
  {
   "cell_type": "code",
   "execution_count": 12,
   "metadata": {},
   "outputs": [
    {
     "data": {
      "text/plain": [
       "(5227,)"
      ]
     },
     "execution_count": 12,
     "metadata": {},
     "output_type": "execute_result"
    }
   ],
   "source": []
  }
 ],
 "metadata": {
  "kernelspec": {
   "display_name": "calicam",
   "language": "python",
   "name": "python3"
  },
  "language_info": {
   "codemirror_mode": {
    "name": "ipython",
    "version": 3
   },
   "file_extension": ".py",
   "mimetype": "text/x-python",
   "name": "python",
   "nbconvert_exporter": "python",
   "pygments_lexer": "ipython3",
   "version": "3.8.15"
  },
  "orig_nbformat": 4,
  "vscode": {
   "interpreter": {
    "hash": "ae764ba699c7ded07afcd0fa1498f05c82e0e797cd76cfb1fdba6d175e362053"
   }
  }
 },
 "nbformat": 4,
 "nbformat_minor": 2
}
